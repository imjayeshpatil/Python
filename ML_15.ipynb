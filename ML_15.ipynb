{
 "cells": [
  {
   "cell_type": "code",
   "execution_count": 1,
   "metadata": {},
   "outputs": [
    {
     "name": "stdout",
     "output_type": "stream",
     "text": [
      "red\n"
     ]
    },
    {
     "data": {
      "text/plain": [
       "'fat'"
      ]
     },
     "execution_count": 1,
     "metadata": {},
     "output_type": "execute_result"
    }
   ],
   "source": [
    "#use dictionaries in python(store different type of data)\n",
    "myCat = {'size':'fat','color':'red','disposition':'loud'}\n",
    "\n",
    "#Access key with value\n",
    "print(myCat['color'])\n",
    "myCat['size']"
   ]
  },
  {
   "cell_type": "code",
   "execution_count": 2,
   "metadata": {},
   "outputs": [
    {
     "data": {
      "text/plain": [
       "False"
      ]
     },
     "execution_count": 2,
     "metadata": {},
     "output_type": "execute_result"
    }
   ],
   "source": [
    "#compare list with same value (position change only)\n",
    "#because In list value access by Indexing\n",
    "spam1 =['dog','cat','rat']\n",
    "spam2 =['rat','cat','dog']\n",
    "spam1 == spam2"
   ]
  },
  {
   "cell_type": "code",
   "execution_count": 3,
   "metadata": {},
   "outputs": [
    {
     "data": {
      "text/plain": [
       "True"
      ]
     },
     "execution_count": 3,
     "metadata": {},
     "output_type": "execute_result"
    }
   ],
   "source": [
    "#compare dictionaries with same key& value (position change only)\n",
    "#because In dictionaries value access by keys\n",
    "myCat1 = {'size':'fat','color':'red','disposition':'loud'}\n",
    "myCat2 = {'color':'red','disposition':'loud','size':'fat'}\n",
    "myCat1 == myCat2"
   ]
  },
  {
   "cell_type": "code",
   "execution_count": 4,
   "metadata": {},
   "outputs": [
    {
     "name": "stdout",
     "output_type": "stream",
     "text": [
      "jayesh\n",
      "male\n",
      "25\n"
     ]
    }
   ],
   "source": [
    "#Access all value by for loop\n",
    "spam = {'name':'jayesh','gender':'male','age':'25'}\n",
    "\n",
    "for v in spam.values():\n",
    "    print(v)"
   ]
  },
  {
   "cell_type": "code",
   "execution_count": 5,
   "metadata": {},
   "outputs": [
    {
     "name": "stdout",
     "output_type": "stream",
     "text": [
      "name\n",
      "gender\n",
      "age\n"
     ]
    }
   ],
   "source": [
    "#Access all keys by for loop\n",
    "for k in spam.keys():\n",
    "    print(k)"
   ]
  },
  {
   "cell_type": "code",
   "execution_count": null,
   "metadata": {},
   "outputs": [
    {
     "name": "stdout",
     "output_type": "stream",
     "text": [
      "('name', 'jayesh')\n",
      "('gender', 'male')\n",
      "('age', '25')\n"
     ]
    }
   ],
   "source": [
    "#Access all keys & values by for loop(output in tuple)\n",
    "for i in spam.items():\n",
    "    print(i)"
   ]
  },
  {
   "cell_type": "code",
   "execution_count": null,
   "metadata": {},
   "outputs": [
    {
     "name": "stdout",
     "output_type": "stream",
     "text": [
      "enter the name :\n",
      "Jayesh\n",
      "7 jun is the birthdys ofJayesh\n",
      "enter the name :\n",
      "gaurav\n",
      "8 aug is the birthdys ofgaurav\n",
      "enter the name :\n",
      "8 aug\n",
      "i do not have birthdays information for8 aug\n",
      "What is the birthday?\n",
      "8 aug\n",
      "Birthday database is updated\n",
      "enter the name :\n",
      "gaurav\n",
      "8 aug is the birthdys ofgaurav\n",
      "enter the name :\n"
     ]
    }
   ],
   "source": [
    "#program Access value by while loop (entering name access birthday in dictionaries)\n",
    "birthdays = {'Rahul':'feb 5','Jayesh':'7 jun','gaurav':'8 aug','sagar':'4 march'}\n",
    "while True:\n",
    "    print(\"enter the name :\")\n",
    "    name = input()\n",
    "    if name=='':\n",
    "        break\n",
    "        \n",
    "    if name in birthdays:\n",
    "        print(birthdays[name]+' is the birthdys of'+ name)\n",
    "        \n",
    "    else:\n",
    "        print('i do not have birthdays information for'+ name)\n",
    "        \n",
    "        print('What is the birthday?')\n",
    "        bday = input()\n",
    "        birthdays[name]=bday\n",
    "        print('Birthday database is updated')\n",
    "    "
   ]
  },
  {
   "cell_type": "code",
   "execution_count": null,
   "metadata": {},
   "outputs": [],
   "source": []
  },
  {
   "cell_type": "code",
   "execution_count": null,
   "metadata": {},
   "outputs": [],
   "source": []
  }
 ],
 "metadata": {
  "kernelspec": {
   "display_name": "Python 3",
   "language": "python",
   "name": "python3"
  },
  "language_info": {
   "codemirror_mode": {
    "name": "ipython",
    "version": 3
   },
   "file_extension": ".py",
   "mimetype": "text/x-python",
   "name": "python",
   "nbconvert_exporter": "python",
   "pygments_lexer": "ipython3",
   "version": "3.6.4"
  }
 },
 "nbformat": 4,
 "nbformat_minor": 2
}
