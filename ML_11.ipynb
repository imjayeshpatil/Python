{
 "cells": [
  {
   "cell_type": "code",
   "execution_count": 2,
   "metadata": {},
   "outputs": [
    {
     "name": "stdout",
     "output_type": "stream",
     "text": [
      "i is now 1\n",
      "i is now 3\n",
      "i is now 5\n",
      "i is now 7\n",
      "i is now 9\n",
      "i is now 11\n",
      "i is now 13\n",
      "i is now 15\n",
      "i is now 17\n",
      "i is now 19\n"
     ]
    }
   ],
   "source": [
    "#Use range function \n",
    "for i in range(1,20,2):\n",
    "    print('i is now {}' .format(i))"
   ]
  },
  {
   "cell_type": "code",
   "execution_count": 12,
   "metadata": {},
   "outputs": [
    {
     "name": "stdout",
     "output_type": "stream",
     "text": [
      "9\n",
      ",\n",
      "2\n",
      "2\n",
      "3\n",
      ",\n",
      "3\n",
      "7\n",
      "2\n",
      ",\n",
      "0\n",
      "3\n",
      "6\n",
      ",\n",
      "8\n",
      "5\n",
      "4\n",
      ",\n",
      "7\n",
      "7\n",
      "5\n",
      ",\n",
      "8\n",
      "0\n",
      "7\n"
     ]
    }
   ],
   "source": [
    "#access value by for loop & use len function \n",
    "number = '9,223,372,036,854,775,807'\n",
    "\n",
    "for i in range(0,len(number)):\n",
    "    \n",
    "    print(number[i])\n",
    " "
   ]
  },
  {
   "cell_type": "code",
   "execution_count": 19,
   "metadata": {},
   "outputs": [
    {
     "name": "stdout",
     "output_type": "stream",
     "text": [
      "<class 'str'>\n",
      "9223372036854775807"
     ]
    }
   ],
   "source": [
    "#removed Qma & new line\n",
    "number = '9,223,372,036,854,775,807'\n",
    "print(type(number))\n",
    "for i in range(0,len(number)):\n",
    "    if number[i] in '0123456789':\n",
    "        print(number[i],end='')\n",
    "        \n"
   ]
  },
  {
   "cell_type": "code",
   "execution_count": 17,
   "metadata": {},
   "outputs": [
    {
     "name": "stdout",
     "output_type": "stream",
     "text": [
      "The number is 9223372036854775807\n",
      "<class 'int'>\n"
     ]
    }
   ],
   "source": [
    "#convert 'str' to 'int' \n",
    "number = '9,223,372,036,854,775,807'\n",
    "cleannumber = ''\n",
    "for i in range(0,len(number)):\n",
    "    if number[i] in '0123456789':\n",
    "        cleannumber = cleannumber + number[i]\n",
    "        \n",
    "newnumber = int(cleannumber)\n",
    "print(\"The number is {}\".format(newnumber))\n",
    "print(type(newnumber))"
   ]
  },
  {
   "cell_type": "code",
   "execution_count": null,
   "metadata": {},
   "outputs": [],
   "source": []
  }
 ],
 "metadata": {
  "kernelspec": {
   "display_name": "Python 3",
   "language": "python",
   "name": "python3"
  },
  "language_info": {
   "codemirror_mode": {
    "name": "ipython",
    "version": 3
   },
   "file_extension": ".py",
   "mimetype": "text/x-python",
   "name": "python",
   "nbconvert_exporter": "python",
   "pygments_lexer": "ipython3",
   "version": "3.6.4"
  }
 },
 "nbformat": 4,
 "nbformat_minor": 2
}
