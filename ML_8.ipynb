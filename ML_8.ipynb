{
 "cells": [
  {
   "cell_type": "code",
   "execution_count": null,
   "metadata": {},
   "outputs": [],
   "source": [
    "#directly call function NO  need assign variables or any return value\n",
    "#Step1 : To ADD NEW FILE Python (referred to ML7 file but removed  call functions. only that help )\n",
    "#Step2 : ADD function,Assign Variable And return value in that file but Don't call function\n",
    "#Step3 : this jupiter file 1.go to file 2.Download it by .py formate\n",
    "#Step4 : then cut this file and paste this file in Current loction\n",
    "#Step5 : Add FIle and any function that you declare ifunction that file \n",
    "# And thid file you give you Any one that help him"
   ]
  },
  {
   "cell_type": "code",
   "execution_count": 4,
   "metadata": {},
   "outputs": [
    {
     "name": "stdout",
     "output_type": "stream",
     "text": [
      "Hello, knowlege shelf\n"
     ]
    }
   ],
   "source": [
    "import ML_8\n",
    "\n",
    "ML_8.function()"
   ]
  },
  {
   "cell_type": "code",
   "execution_count": 6,
   "metadata": {},
   "outputs": [
    {
     "name": "stdout",
     "output_type": "stream",
     "text": [
      "Enter the value of num1 : 12\n",
      "Enter the value of num2 : 8\n",
      "sum = 20\n"
     ]
    }
   ],
   "source": [
    "ML_8.add()"
   ]
  },
  {
   "cell_type": "code",
   "execution_count": 10,
   "metadata": {},
   "outputs": [
    {
     "name": "stdout",
     "output_type": "stream",
     "text": [
      "Sub =  4\n"
     ]
    }
   ],
   "source": [
    "from ML_8 import sub\n",
    "sub(12,8)\n"
   ]
  },
  {
   "cell_type": "code",
   "execution_count": 16,
   "metadata": {},
   "outputs": [
    {
     "name": "stdout",
     "output_type": "stream",
     "text": [
      "1.5\n"
     ]
    }
   ],
   "source": [
    "from ML_8 import *\n",
    "var4 = div(12,8)\n",
    "print(var4)\n"
   ]
  },
  {
   "cell_type": "code",
   "execution_count": null,
   "metadata": {},
   "outputs": [],
   "source": []
  }
 ],
 "metadata": {
  "kernelspec": {
   "display_name": "Python 3",
   "language": "python",
   "name": "python3"
  },
  "language_info": {
   "codemirror_mode": {
    "name": "ipython",
    "version": 3
   },
   "file_extension": ".py",
   "mimetype": "text/x-python",
   "name": "python",
   "nbconvert_exporter": "python",
   "pygments_lexer": "ipython3",
   "version": "3.6.4"
  }
 },
 "nbformat": 4,
 "nbformat_minor": 2
}
