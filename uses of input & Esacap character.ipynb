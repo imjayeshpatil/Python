{
 "cells": [
  {
   "cell_type": "code",
   "execution_count": 5,
   "metadata": {},
   "outputs": [
    {
     "name": "stdout",
     "output_type": "stream",
     "text": [
      "ENTER THE NAME : Jayesh\n",
      "helloJayesh\n"
     ]
    }
   ],
   "source": [
    "greeting = \"hello\"\n",
    "name = input(\"ENTER THE NAME : \")\n",
    "print(greeting+\"\"+name)"
   ]
  },
  {
   "cell_type": "code",
   "execution_count": 6,
   "metadata": {},
   "outputs": [
    {
     "name": "stdout",
     "output_type": "stream",
     "text": [
      "ENTER THE VALUES :12345\n"
     ]
    },
    {
     "data": {
      "text/plain": [
       "int"
      ]
     },
     "execution_count": 6,
     "metadata": {},
     "output_type": "execute_result"
    }
   ],
   "source": [
    "var1 = int(input(\"ENTER THE VALUES :\"))\n",
    "var1\n",
    "type(var1)"
   ]
  },
  {
   "cell_type": "code",
   "execution_count": 7,
   "metadata": {},
   "outputs": [
    {
     "name": "stdout",
     "output_type": "stream",
     "text": [
      "ENTER THE VALUESjayesh patil\n",
      "jayesh patiljayesh patil\n"
     ]
    }
   ],
   "source": [
    "var1 = input(\"ENTER THE VALUES\")\n",
    "var1 = var1 * 2\n",
    "print(var1)"
   ]
  },
  {
   "cell_type": "code",
   "execution_count": 10,
   "metadata": {},
   "outputs": [
    {
     "name": "stdout",
     "output_type": "stream",
     "text": [
      "I am jayesh patil and\n",
      "i am computer engineering student\n"
     ]
    }
   ],
   "source": [
    "splitstring = \"I am jayesh patil and\\ni am computer engineering student\"\n",
    "print(splitstring)"
   ]
  },
  {
   "cell_type": "code",
   "execution_count": 16,
   "metadata": {},
   "outputs": [
    {
     "name": "stdout",
     "output_type": "stream",
     "text": [
      "1\t2\t3\t4\t5\t6\t\n",
      "1 2 3 4 5 6\n"
     ]
    }
   ],
   "source": [
    "tabstring = \"1\\t2\\t3\\t4\\t5\\t6\\t\"\n",
    "tabstring1 = '1 2 3 4 5 6'\n",
    "print(tabstring)\n",
    "print(tabstring1)\n"
   ]
  },
  {
   "cell_type": "code",
   "execution_count": 22,
   "metadata": {},
   "outputs": [
    {
     "name": "stdout",
     "output_type": "stream",
     "text": [
      "what's your name ?\n",
      "my name is \"jayesh\" patil\n"
     ]
    }
   ],
   "source": [
    "print('what\\'s your name ?')\n",
    "print(\"my name is \\\"jayesh\\\" patil\" )"
   ]
  },
  {
   "cell_type": "code",
   "execution_count": null,
   "metadata": {},
   "outputs": [],
   "source": []
  },
  {
   "cell_type": "code",
   "execution_count": null,
   "metadata": {},
   "outputs": [],
   "source": []
  }
 ],
 "metadata": {
  "kernelspec": {
   "display_name": "Python 3",
   "language": "python",
   "name": "python3"
  },
  "language_info": {
   "codemirror_mode": {
    "name": "ipython",
    "version": 3
   },
   "file_extension": ".py",
   "mimetype": "text/x-python",
   "name": "python",
   "nbconvert_exporter": "python",
   "pygments_lexer": "ipython3",
   "version": "3.6.4"
  }
 },
 "nbformat": 4,
 "nbformat_minor": 2
}
