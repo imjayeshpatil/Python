{
 "cells": [
  {
   "cell_type": "code",
   "execution_count": 6,
   "metadata": {},
   "outputs": [
    {
     "data": {
      "image/png": "[encoded data removed]",
      "text/plain": [
       "<matplotlib.figure.Figure at 0x13a24f820f0>"
      ]
     },
     "metadata": {},
     "output_type": "display_data"
    }
   ],
   "source": [
    "# histogram is use by measuring frequence measerment \n",
    "# histogram is use only single parameter eg.ages,led tv color distribution\n",
    "import matplotlib.pyplot as plt\n",
    "\n",
    "ages = [2,50,70,40,30,45,50,45,43,40,40,44,60,\n",
    "       7,13,51,18,90,77,32,21,20,40]\n",
    "\n",
    "range =(0,100)\n",
    "bins = 10\n",
    "\n",
    "plt.hist(ages,bins,range,color='green',histtype='bar',rwidth=0.7)\n",
    "\n",
    "plt.xlabel('Ages')\n",
    "plt.ylabel('bins')\n",
    "\n",
    "plt.title('Histogram Plot')\n",
    "\n",
    "plt.show()"
   ]
  },
  {
   "cell_type": "code",
   "execution_count": null,
   "metadata": {},
   "outputs": [],
   "source": []
  }
 ],
 "metadata": {
  "kernelspec": {
   "display_name": "Python 3",
   "language": "python",
   "name": "python3"
  },
  "language_info": {
   "codemirror_mode": {
    "name": "ipython",
    "version": 3
   },
   "file_extension": ".py",
   "mimetype": "text/x-python",
   "name": "python",
   "nbconvert_exporter": "python",
   "pygments_lexer": "ipython3",
   "version": "3.6.4"
  }
 },
 "nbformat": 4,
 "nbformat_minor": 2
}
