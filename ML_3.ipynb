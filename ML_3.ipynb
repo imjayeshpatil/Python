{
 "cells": [
  {
   "cell_type": "code",
   "execution_count": null,
   "metadata": {},
   "outputs": [],
   "source": [
    "#variables in python \n",
    "#input variables"
   ]
  },
  {
   "cell_type": "code",
   "execution_count": 3,
   "metadata": {},
   "outputs": [
    {
     "name": "stdout",
     "output_type": "stream",
     "text": [
      "Jayesh20\n"
     ]
    }
   ],
   "source": [
    "_var1 = 20\n",
    "name_var_1 = \"Jayesh\"\n",
    "#print(_var1)\n",
    "print(name_var_1 + str(_var1))"
   ]
  },
  {
   "cell_type": "code",
   "execution_count": 6,
   "metadata": {},
   "outputs": [
    {
     "name": "stdout",
     "output_type": "stream",
     "text": [
      "Enter the vaule of var1:23\n",
      "Enter the vaule of var2:34\n",
      "57\n",
      "57\n",
      "782\n",
      "0.6764705882352942\n",
      "782\n"
     ]
    }
   ],
   "source": [
    "var1 = int(input(\"Enter the vaule of var1:\"))\n",
    "var2 = int(input(\"Enter the vaule of var2:\"))\n",
    "\n",
    "print(var1+var2)\n",
    "print(var2+var1)\n",
    "print(var1*var2)\n",
    "print(var1/var2)\n",
    "print(var2*var1)"
   ]
  },
  {
   "cell_type": "code",
   "execution_count": null,
   "metadata": {},
   "outputs": [],
   "source": []
  }
 ],
 "metadata": {
  "kernelspec": {
   "display_name": "Python 3",
   "language": "python",
   "name": "python3"
  },
  "language_info": {
   "codemirror_mode": {
    "name": "ipython",
    "version": 3
   },
   "file_extension": ".py",
   "mimetype": "text/x-python",
   "name": "python",
   "nbconvert_exporter": "python",
   "pygments_lexer": "ipython3",
   "version": "3.6.4"
  }
 },
 "nbformat": 4,
 "nbformat_minor": 2
}
