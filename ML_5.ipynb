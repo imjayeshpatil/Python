{
 "cells": [
  {
   "cell_type": "code",
   "execution_count": 87,
   "metadata": {},
   "outputs": [
    {
     "name": "stdout",
     "output_type": "stream",
     "text": [
      "Hello,jayesh. how are you ?\n"
     ]
    }
   ],
   "source": [
    "#adding Variables in straight line \n",
    "var1= 'Hello'\n",
    "var2= 'jayesh'\n",
    "message = var1+','+var2+'. how are you ?'\n",
    "print(message)"
   ]
  },
  {
   "cell_type": "code",
   "execution_count": 89,
   "metadata": {},
   "outputs": [
    {
     "name": "stdout",
     "output_type": "stream",
     "text": [
      "Hello,jayesh. how are you?\n"
     ]
    }
   ],
   "source": [
    "#adding Variables Using .format function \n",
    "message2 = '{},{}. how are you?'.format(var1,var2)\n",
    "print(message2)"
   ]
  },
  {
   "cell_type": "code",
   "execution_count": 90,
   "metadata": {},
   "outputs": [
    {
     "name": "stdout",
     "output_type": "stream",
     "text": [
      "Hello,jayesh. how are you?\n"
     ]
    }
   ],
   "source": [
    "#adding Variables Using f function \n",
    "message3 = f'{var1},{var2}. how are you?'\n",
    "print(message3)"
   ]
  },
  {
   "cell_type": "code",
   "execution_count": 91,
   "metadata": {},
   "outputs": [
    {
     "name": "stdout",
     "output_type": "stream",
     "text": [
      "Jayesh Patil\n",
      "<class 'str'>\n",
      "jayesh patil\n",
      "JAYESH PATIL\n",
      "12\n",
      "12\n",
      "2\n",
      "7\n",
      "P\n",
      "Jayesh P\n"
     ]
    }
   ],
   "source": [
    "#Use upper and lower functions \n",
    "message4 = \"Jayesh Patil\"\n",
    "print(message4)\n",
    "print(type(message4))\n",
    "print(message4.lower())\n",
    "print(message4.upper())\n",
    "\n",
    "#Find len of string \n",
    "print(message4.__len__())\n",
    "print(len(message4))\n",
    "\n",
    "#count the alphabet & count position\n",
    "print(message4.count('a'))\n",
    "print(message4.find('Patil'))\n",
    "print(message4[7])\n",
    "print(message4[0:8])\n"
   ]
  },
  {
   "cell_type": "code",
   "execution_count": null,
   "metadata": {},
   "outputs": [],
   "source": []
  }
 ],
 "metadata": {
  "kernelspec": {
   "display_name": "Python 3",
   "language": "python",
   "name": "python3"
  },
  "language_info": {
   "codemirror_mode": {
    "name": "ipython",
    "version": 3
   },
   "file_extension": ".py",
   "mimetype": "text/x-python",
   "name": "python",
   "nbconvert_exporter": "python",
   "pygments_lexer": "ipython3",
   "version": "3.6.4"
  }
 },
 "nbformat": 4,
 "nbformat_minor": 2
}
