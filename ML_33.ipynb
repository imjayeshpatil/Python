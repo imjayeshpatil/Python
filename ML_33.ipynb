{
 "cells": [
  {
   "cell_type": "code",
   "execution_count": 1,
   "metadata": {},
   "outputs": [
    {
     "name": "stderr",
     "output_type": "stream",
     "text": [
      "C:\\Users\\jayesh\\AppData\\Local\\Temp\\ipykernel_12092\\3502299350.py:4: FutureWarning: The squeeze argument has been deprecated and will be removed in a future version. Append .squeeze(\"columns\") to the call to squeeze.\n",
      "\n",
      "\n",
      "  pokemon = pd.read_csv(\"pokemon.csv\",usecols=[\"Pokemon\"],squeeze=True)\n"
     ]
    }
   ],
   "source": [
    "import pandas as pd \n",
    "\n",
    "\n",
    "pokemon = pd.read_csv(\"pokemon.csv\",usecols=[\"Pokemon\"],squeeze=True)\n",
    "\n"
   ]
  },
  {
   "cell_type": "code",
   "execution_count": 2,
   "metadata": {},
   "outputs": [
    {
     "name": "stdout",
     "output_type": "stream",
     "text": [
      "459     Abomasnow\n",
      "62           Abra\n",
      "358         Absol\n",
      "616      Accelgor\n",
      "680     Aegislash\n",
      "141    Aerodactyl\n",
      "305        Aggron\n",
      "189         Aipom\n",
      "64       Alakazam\n",
      "593     Alomomola\n",
      "Name: Pokemon, dtype: object\n"
     ]
    },
    {
     "data": {
      "text/plain": [
       "593     Alomomola\n",
       "64       Alakazam\n",
       "189         Aipom\n",
       "305        Aggron\n",
       "141    Aerodactyl\n",
       "680     Aegislash\n",
       "616      Accelgor\n",
       "358         Absol\n",
       "62           Abra\n",
       "459     Abomasnow\n",
       "Name: Pokemon, dtype: object"
      ]
     },
     "execution_count": 2,
     "metadata": {},
     "output_type": "execute_result"
    }
   ],
   "source": [
    "#In paramter ascending order value by default in parameter\n",
    "print(pokemon.sort_values().head(10))\n",
    "#ascending=False get value in decending order & .tail(10) mean last 10 value\n",
    "pokemon.sort_values(ascending=False).tail(10)"
   ]
  },
  {
   "cell_type": "code",
   "execution_count": 10,
   "metadata": {},
   "outputs": [
    {
     "name": "stderr",
     "output_type": "stream",
     "text": [
      "C:\\Users\\jayesh\\AppData\\Local\\Temp\\ipykernel_12092\\329901137.py:1: FutureWarning: The squeeze argument has been deprecated and will be removed in a future version. Append .squeeze(\"columns\") to the call to squeeze.\n",
      "\n",
      "\n",
      "  google = pd.read_csv(\"C:\\\\Users\\\\jayesh\\\\Desktop\\\\Data Science\\\\DS12-2403\\\\Practice(imp)\\\\ML_1\\\\Datasets\\\\google_stock_price.csv\",squeeze=True)\n"
     ]
    },
    {
     "data": {
      "text/plain": [
       "0    50.12\n",
       "1    54.10\n",
       "2    54.65\n",
       "3    52.38\n",
       "4    52.95\n",
       "Name: Stock Price, dtype: float64"
      ]
     },
     "execution_count": 10,
     "metadata": {},
     "output_type": "execute_result"
    }
   ],
   "source": [
    "\n",
    "google = pd.read_csv(\"C:\\\\Users\\\\jayesh\\\\Desktop\\\\Data Science\\\\DS12-2403\\\\Practice(imp)\\\\ML_1\\\\Datasets\\\\google_stock_price.csv\",squeeze=True)\n",
    "google.head()\n"
   ]
  },
  {
   "cell_type": "code",
   "execution_count": 15,
   "metadata": {},
   "outputs": [
    {
     "data": {
      "text/plain": [
       "3011    782.22\n",
       "2859    776.60\n",
       "3009    773.18\n",
       "3007    772.88\n",
       "3010    771.61\n",
       "         ...  \n",
       "12       50.74\n",
       "10       50.70\n",
       "0        50.12\n",
       "9        50.07\n",
       "11       49.95\n",
       "Name: Stock Price, Length: 3012, dtype: float64"
      ]
     },
     "execution_count": 15,
     "metadata": {},
     "output_type": "execute_result"
    }
   ],
   "source": [
    "#use inplace method\n",
    "google.sort_values(ascending=False, inplace=True)\n",
    "google"
   ]
  },
  {
   "cell_type": "code",
   "execution_count": 16,
   "metadata": {},
   "outputs": [
    {
     "name": "stdout",
     "output_type": "stream",
     "text": [
      "3011    782.22\n",
      "2859    776.60\n",
      "3009    773.18\n",
      "3007    772.88\n",
      "3010    771.61\n",
      "Name: Stock Price, dtype: float64\n"
     ]
    },
    {
     "data": {
      "text/plain": [
       "11       49.95\n",
       "9        50.07\n",
       "0        50.12\n",
       "10       50.70\n",
       "12       50.74\n",
       "         ...  \n",
       "3010    771.61\n",
       "3007    772.88\n",
       "3009    773.18\n",
       "2859    776.60\n",
       "3011    782.22\n",
       "Name: Stock Price, Length: 3012, dtype: float64"
      ]
     },
     "execution_count": 16,
     "metadata": {},
     "output_type": "execute_result"
    }
   ],
   "source": [
    "#this is unarranged data\n",
    "print(google.head())\n",
    "#this is sorted data \n",
    "google.sort_values()"
   ]
  },
  {
   "cell_type": "code",
   "execution_count": null,
   "metadata": {},
   "outputs": [],
   "source": []
  },
  {
   "cell_type": "code",
   "execution_count": null,
   "metadata": {},
   "outputs": [],
   "source": []
  },
  {
   "cell_type": "code",
   "execution_count": null,
   "metadata": {},
   "outputs": [],
   "source": []
  },
  {
   "cell_type": "code",
   "execution_count": null,
   "metadata": {},
   "outputs": [],
   "source": []
  }
 ],
 "metadata": {
  "kernelspec": {
   "display_name": "Python 3 (ipykernel)",
   "language": "python",
   "name": "python3"
  },
  "language_info": {
   "codemirror_mode": {
    "name": "ipython",
    "version": 3
   },
   "file_extension": ".py",
   "mimetype": "text/x-python",
   "name": "python",
   "nbconvert_exporter": "python",
   "pygments_lexer": "ipython3",
   "version": "3.9.12"
  }
 },
 "nbformat": 4,
 "nbformat_minor": 2
}
