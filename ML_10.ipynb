{
 "cells": [
  {
   "cell_type": "code",
   "execution_count": 5,
   "metadata": {},
   "outputs": [
    {
     "name": "stdout",
     "output_type": "stream",
     "text": [
      "Please enter your name : \n",
      "Harsh\n",
      "Please enter your name : \n",
      "SAI\n",
      "Please enter your name : \n",
      "JAyesh\n",
      "Please enter your name : \n",
      "Jayesh\n",
      "Thank you Jayesh\n"
     ]
    }
   ],
   "source": [
    "#Break Statement prgram\n",
    "name = 'Jayesh'\n",
    "\n",
    "while True:\n",
    "    print(\"Please enter your name : \")\n",
    "    name1 = input()\n",
    "    if name1 == name:\n",
    "        break \n",
    "print(\"Thank you\",name)\n",
    "    "
   ]
  },
  {
   "cell_type": "code",
   "execution_count": 7,
   "metadata": {},
   "outputs": [
    {
     "name": "stdout",
     "output_type": "stream",
     "text": [
      "who are you?\n",
      "harsh\n",
      "who are you?\n",
      "Jayesh\n",
      "Hello Jayesh. What is your password('It is fish')\n",
      "starfish\n",
      "who are you?\n",
      "Jatyesh\n",
      "who are you?\n",
      "Jayesh\n",
      "Hello Jayesh. What is your password('It is fish')\n",
      "swordfish\n",
      "Congratulations !!!,Access Granted\n"
     ]
    }
   ],
   "source": [
    "##Break Continue Statement prgram\n",
    "while True:\n",
    "    print(\"who are you?\")\n",
    "    name = input()\n",
    "    \n",
    "    if name != \"Jayesh\":\n",
    "        continue\n",
    "        \n",
    "    print(\"Hello Jayesh. What is your password('It is fish')\")\n",
    "    password = input()\n",
    "    if password == 'swordfish':\n",
    "        break\n",
    "print(\"Congratulations !!!,Access Granted\")"
   ]
  },
  {
   "cell_type": "code",
   "execution_count": null,
   "metadata": {},
   "outputs": [],
   "source": []
  }
 ],
 "metadata": {
  "kernelspec": {
   "display_name": "Python 3",
   "language": "python",
   "name": "python3"
  },
  "language_info": {
   "codemirror_mode": {
    "name": "ipython",
    "version": 3
   },
   "file_extension": ".py",
   "mimetype": "text/x-python",
   "name": "python",
   "nbconvert_exporter": "python",
   "pygments_lexer": "ipython3",
   "version": "3.6.4"
  }
 },
 "nbformat": 4,
 "nbformat_minor": 2
}
