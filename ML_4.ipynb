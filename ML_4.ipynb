{
 "cells": [
  {
   "cell_type": "code",
   "execution_count": 12,
   "metadata": {},
   "outputs": [
    {
     "name": "stdout",
     "output_type": "stream",
     "text": [
      "jayesh13\n"
     ]
    }
   ],
   "source": [
    "#addinG two variable integer and string using type casting \n",
    "var1 = 13\n",
    "type(var1)\n",
    "greeting = 'jayesh'\n",
    "print(greeting + str(var1))"
   ]
  },
  {
   "cell_type": "code",
   "execution_count": 19,
   "metadata": {},
   "outputs": [
    {
     "name": "stdout",
     "output_type": "stream",
     "text": [
      "30\n",
      "14\n",
      "176\n",
      "54875873536\n",
      "2.75\n"
     ]
    }
   ],
   "source": [
    "#operation performs in two variables \n",
    "var2 = 22\n",
    "var3 = 8\n",
    "print(var2+var3)\n",
    "print(var2-var3)\n",
    "print(var2*var3)\n",
    "print(var2**var3)\n",
    "print(var2/var3)"
   ]
  },
  {
   "cell_type": "code",
   "execution_count": null,
   "metadata": {},
   "outputs": [],
   "source": []
  }
 ],
 "metadata": {
  "kernelspec": {
   "display_name": "Python 3",
   "language": "python",
   "name": "python3"
  },
  "language_info": {
   "codemirror_mode": {
    "name": "ipython",
    "version": 3
   },
   "file_extension": ".py",
   "mimetype": "text/x-python",
   "name": "python",
   "nbconvert_exporter": "python",
   "pygments_lexer": "ipython3",
   "version": "3.6.4"
  }
 },
 "nbformat": 4,
 "nbformat_minor": 2
}
