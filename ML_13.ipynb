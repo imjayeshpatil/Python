{
 "cells": [
  {
   "cell_type": "code",
   "execution_count": 1,
   "metadata": {},
   "outputs": [
    {
     "name": "stdout",
     "output_type": "stream",
     "text": [
      "Value of var1 is 0\n",
      "Value of var1 is 1\n",
      "Value of var1 is 2\n",
      "Value of var1 is 3\n",
      "Value of var1 is 4\n",
      "Value of var1 is 5\n",
      "Value of var1 is 6\n",
      "Value of var1 is 7\n",
      "Value of var1 is 8\n",
      "Value of var1 is 9\n",
      "Value of var1 is 10\n"
     ]
    }
   ],
   "source": [
    " var1 = 0\n",
    "    \n",
    "while var1<=10:\n",
    "    print(\"Value of var1 is\",var1)\n",
    "    var1 += 1"
   ]
  },
  {
   "cell_type": "code",
   "execution_count": 3,
   "metadata": {},
   "outputs": [
    {
     "name": "stdout",
     "output_type": "stream",
     "text": [
      "Please  enter the dirction : south west\n",
      "Please  enter the dirction : east\n",
      "Are you not glad that you are out of this loop\n"
     ]
    }
   ],
   "source": [
    "available_exits = [\"east\",\"north east\",\"south\"]\n",
    "\n",
    "choosen_exit =\"\" \n",
    "\n",
    "while choosen_exit not in available_exits:\n",
    "    choosen_exit = input(\"Please  enter the dirction : \")\n",
    "    if choosen_exit ==\"quit\":\n",
    "        print(\"Your GAME OVER\")\n",
    "        break\n",
    "else:\n",
    "    \n",
    "    print(\"Are you not glad that you are out of this loop\")"
   ]
  },
  {
   "cell_type": "code",
   "execution_count": null,
   "metadata": {},
   "outputs": [],
   "source": []
  },
  {
   "cell_type": "code",
   "execution_count": null,
   "metadata": {},
   "outputs": [],
   "source": []
  }
 ],
 "metadata": {
  "kernelspec": {
   "display_name": "Python 3",
   "language": "python",
   "name": "python3"
  },
  "language_info": {
   "codemirror_mode": {
    "name": "ipython",
    "version": 3
   },
   "file_extension": ".py",
   "mimetype": "text/x-python",
   "name": "python",
   "nbconvert_exporter": "python",
   "pygments_lexer": "ipython3",
   "version": "3.6.4"
  }
 },
 "nbformat": 4,
 "nbformat_minor": 2
}
