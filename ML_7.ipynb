{
 "cells": [
  {
   "cell_type": "code",
   "execution_count": 5,
   "metadata": {},
   "outputs": [
    {
     "name": "stdout",
     "output_type": "stream",
     "text": [
      "Hello, knowlege shelf\n"
     ]
    }
   ],
   "source": [
    "#Functions\n",
    "def function():\n",
    "    print(\"Hello, knowlege shelf\")\n",
    "function()"
   ]
  },
  {
   "cell_type": "code",
   "execution_count": 6,
   "metadata": {},
   "outputs": [
    {
     "name": "stdout",
     "output_type": "stream",
     "text": [
      "Enter the value of num1 : 67\n",
      "Enter the value of num2 : 3\n",
      "sum = 70\n"
     ]
    }
   ],
   "source": [
    "#1.No argument No return type\n",
    "def add():\n",
    "    var1 = int(input(\"Enter the value of num1 : \"))\n",
    "    var2 = int(input(\"Enter the value of num2 : \"))\n",
    "    \n",
    "    var3 = var1+var2\n",
    "    \n",
    "    print(\"sum =\",var3)\n",
    "\n",
    "add()"
   ]
  },
  {
   "cell_type": "code",
   "execution_count": 9,
   "metadata": {},
   "outputs": [
    {
     "name": "stdout",
     "output_type": "stream",
     "text": [
      "Sub =  5\n"
     ]
    }
   ],
   "source": [
    "#2.With argument No return type\n",
    "def sub(var1,var2):\n",
    "    var3 = var1 - var2\n",
    "    \n",
    "    print(\"Sub = \",var3)\n",
    "sub(11,6)\n",
    "    \n"
   ]
  },
  {
   "cell_type": "code",
   "execution_count": 12,
   "metadata": {},
   "outputs": [
    {
     "name": "stdout",
     "output_type": "stream",
     "text": [
      "Enter the value of num1 : 567\n",
      "Enter the value of num2 : 567\n",
      "Multiply =  321489\n"
     ]
    }
   ],
   "source": [
    "#3.No argument and With return type\n",
    "def multiply():\n",
    "    var1 = int(input(\"Enter the value of num1 : \"))\n",
    "    var2 = int(input(\"Enter the value of num2 : \"))\n",
    "    \n",
    "    var3 = var1 * var2\n",
    "    return var3\n",
    "    \n",
    "var4 = multiply()\n",
    "print(\"Multiply = \",var4)"
   ]
  },
  {
   "cell_type": "code",
   "execution_count": 14,
   "metadata": {},
   "outputs": [
    {
     "name": "stdout",
     "output_type": "stream",
     "text": [
      "division= 5.444444444444445\n"
     ]
    }
   ],
   "source": [
    "#4.With argument and With return type\n",
    "def div(var1,var2):\n",
    "    var3 = var1/var2\n",
    "    \n",
    "    return var3\n",
    "var4 = div(49,9)\n",
    "print(\"division=\",var4)"
   ]
  },
  {
   "cell_type": "code",
   "execution_count": null,
   "metadata": {},
   "outputs": [],
   "source": []
  },
  {
   "cell_type": "code",
   "execution_count": null,
   "metadata": {},
   "outputs": [],
   "source": []
  }
 ],
 "metadata": {
  "kernelspec": {
   "display_name": "Python 3",
   "language": "python",
   "name": "python3"
  }
 },
 "nbformat": 4,
 "nbformat_minor": 2
}
