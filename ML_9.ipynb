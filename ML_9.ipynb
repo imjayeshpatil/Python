{
 "cells": [
  {
   "cell_type": "code",
   "execution_count": 2,
   "metadata": {},
   "outputs": [
    {
     "name": "stdout",
     "output_type": "stream",
     "text": [
      "Please enter your name : JAYESH\n",
      "How old you are,JAYESH? 23\n",
      "23\n",
      "You are eligible for voting!!!\n"
     ]
    }
   ],
   "source": [
    "#program age count using if else statement\n",
    "name = input(\"Please enter your name : \")\n",
    "age = int(input(\"How old you are,{0}? \".format(name)))\n",
    "print(age)\n",
    "\n",
    "#check type of what formate (str,int) print(type(age))\n",
    "\n",
    "if age >=18:\n",
    "    print(\"You are eligible for voting!!!\")\n",
    "else:\n",
    "    print(\"You are come for voting after {0} year\".format(18-age))\n"
   ]
  },
  {
   "cell_type": "code",
   "execution_count": 13,
   "metadata": {},
   "outputs": [
    {
     "name": "stdout",
     "output_type": "stream",
     "text": [
      "Please guess a number  b/w 1 to 10\n",
      "4\n",
      "Please guess higher\n",
      "7\n",
      "Sorry, You have not guessed correct number\n"
     ]
    }
   ],
   "source": [
    "#program guess correct number using if else statement\n",
    "print(\"Please guess a number  b/w 1 to 10\")\n",
    "guess = int(input())\n",
    "\n",
    "if guess < 5:\n",
    "    print(\"Please guess higher\")\n",
    "    \n",
    "    guess = int(input())\n",
    "    if guess == 5:\n",
    "        print(\"WELL DONE,Your guess is correct \")\n",
    "    else:\n",
    "        print(\"Sorry, You have not guessed correct number\")\n",
    "elif guess > 5:\n",
    "    print(\"Please guess lower\")\n",
    "        \n",
    "    guess = int(input())\n",
    "    if guess == 5:\n",
    "        print(\"well done,Your guess is correct \")\n",
    "    else:\n",
    "        print(\"Sorry, You have not guessed correct number\")\n",
    "else:\n",
    "    print(\"You got it first time\")\n",
    "    \n"
   ]
  },
  {
   "cell_type": "code",
   "execution_count": null,
   "metadata": {},
   "outputs": [],
   "source": []
  },
  {
   "cell_type": "code",
   "execution_count": null,
   "metadata": {},
   "outputs": [],
   "source": []
  },
  {
   "cell_type": "code",
   "execution_count": null,
   "metadata": {},
   "outputs": [],
   "source": []
  }
 ],
 "metadata": {
  "kernelspec": {
   "display_name": "Python 3",
   "language": "python",
   "name": "python3"
  },
  "language_info": {
   "codemirror_mode": {
    "name": "ipython",
    "version": 3
   },
   "file_extension": ".py",
   "mimetype": "text/x-python",
   "name": "python",
   "nbconvert_exporter": "python",
   "pygments_lexer": "ipython3",
   "version": "3.6.4"
  }
 },
 "nbformat": 4,
 "nbformat_minor": 2
}
